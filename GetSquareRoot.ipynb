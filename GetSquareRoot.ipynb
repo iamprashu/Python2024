{
 "cells": [
  {
   "cell_type": "code",
   "execution_count": 1,
   "metadata": {},
   "outputs": [],
   "source": [
    "\n",
    "def GetRoot(number):\n",
    "    start = 0\n",
    "    end = number\n",
    "    store = 0\n",
    "\n",
    "    while(start<=end):\n",
    "\n",
    "        mid = int((start + end)/2)\n",
    "\n",
    "        current = mid*mid\n",
    "\n",
    "        if(current == number):\n",
    "            return mid\n",
    "        \n",
    "        if(current>number):\n",
    "            end = mid-1\n",
    "        else:\n",
    "            store = mid\n",
    "            start = mid + 1\n",
    "\n",
    "    return store\n"
   ]
  },
  {
   "cell_type": "code",
   "execution_count": 2,
   "metadata": {},
   "outputs": [
    {
     "name": "stdout",
     "output_type": "stream",
     "text": [
      "Square root of 500 is 22\n"
     ]
    }
   ],
   "source": [
    "\n",
    "number = int(input(\"Please Enter Number to get Square root :> \"))\n",
    "\n",
    "answer = GetRoot(number)\n",
    "\n",
    "print(f\"Square root of {number} is {answer}\")"
   ]
  }
 ],
 "metadata": {
  "kernelspec": {
   "display_name": "Python 3",
   "language": "python",
   "name": "python3"
  },
  "language_info": {
   "codemirror_mode": {
    "name": "ipython",
    "version": 3
   },
   "file_extension": ".py",
   "mimetype": "text/x-python",
   "name": "python",
   "nbconvert_exporter": "python",
   "pygments_lexer": "ipython3",
   "version": "3.12.4"
  }
 },
 "nbformat": 4,
 "nbformat_minor": 2
}
