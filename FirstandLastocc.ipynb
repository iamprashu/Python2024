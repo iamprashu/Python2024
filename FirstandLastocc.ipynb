{
 "cells": [
  {
   "cell_type": "code",
   "execution_count": 16,
   "metadata": {},
   "outputs": [],
   "source": [
    "arr = [1,2,3,5,5,5,5,5,5,6,6]\n",
    "target =5\n",
    "\n",
    "size = len(arr)\n"
   ]
  },
  {
   "cell_type": "code",
   "execution_count": 25,
   "metadata": {},
   "outputs": [],
   "source": [
    "#using binary search\n",
    "\n",
    "def GetOccurance(arr,size,target):\n",
    "    start = 0\n",
    "    end = size-1\n",
    "    first=-1\n",
    "    last=-1\n",
    "\n",
    "    while(start<=end):\n",
    "        mid = int((start+end)/2)\n",
    "\n",
    "        if(arr[mid]==target):\n",
    "            if(last==-1):\n",
    "                if(arr[mid]<arr[mid+1]):\n",
    "                    last = mid\n",
    "                else:\n",
    "                    start = mid+1\n",
    "            else:\n",
    "                start = mid\n",
    "        \n",
    "        elif(target>arr[mid]):\n",
    "            start = mid+1\n",
    "        else:\n",
    "            end = mid-1\n",
    "    return(first,last)\n",
    " \n",
    "        \n",
    "\n"
   ]
  },
  {
   "cell_type": "code",
   "execution_count": 26,
   "metadata": {},
   "outputs": [
    {
     "ename": "KeyboardInterrupt",
     "evalue": "",
     "output_type": "error",
     "traceback": [
      "\u001b[1;31m---------------------------------------------------------------------------\u001b[0m",
      "\u001b[1;31mKeyboardInterrupt\u001b[0m                         Traceback (most recent call last)",
      "Cell \u001b[1;32mIn[26], line 1\u001b[0m\n\u001b[1;32m----> 1\u001b[0m answer \u001b[38;5;241m=\u001b[39m \u001b[43mGetOccurance\u001b[49m\u001b[43m(\u001b[49m\u001b[43marr\u001b[49m\u001b[43m,\u001b[49m\u001b[43msize\u001b[49m\u001b[43m,\u001b[49m\u001b[43mtarget\u001b[49m\u001b[43m)\u001b[49m\n\u001b[0;32m      3\u001b[0m \u001b[38;5;28mprint\u001b[39m(\u001b[38;5;124mf\u001b[39m\u001b[38;5;124m\"\u001b[39m\u001b[38;5;124mThe First occurance of \u001b[39m\u001b[38;5;132;01m{\u001b[39;00mtarget\u001b[38;5;132;01m}\u001b[39;00m\u001b[38;5;124m is \u001b[39m\u001b[38;5;132;01m{\u001b[39;00manswer[\u001b[38;5;241m0\u001b[39m]\u001b[38;5;132;01m}\u001b[39;00m\u001b[38;5;124m and Last occurance is \u001b[39m\u001b[38;5;132;01m{\u001b[39;00manswer[\u001b[38;5;241m1\u001b[39m]\u001b[38;5;132;01m}\u001b[39;00m\u001b[38;5;124m\"\u001b[39m)\n",
      "Cell \u001b[1;32mIn[25], line 9\u001b[0m, in \u001b[0;36mGetOccurance\u001b[1;34m(arr, size, target)\u001b[0m\n\u001b[0;32m      6\u001b[0m first\u001b[38;5;241m=\u001b[39m\u001b[38;5;241m-\u001b[39m\u001b[38;5;241m1\u001b[39m\n\u001b[0;32m      7\u001b[0m last\u001b[38;5;241m=\u001b[39m\u001b[38;5;241m-\u001b[39m\u001b[38;5;241m1\u001b[39m\n\u001b[1;32m----> 9\u001b[0m \u001b[38;5;28;01mwhile\u001b[39;00m(start\u001b[38;5;241m<\u001b[39m\u001b[38;5;241m=\u001b[39mend):\n\u001b[0;32m     10\u001b[0m     mid \u001b[38;5;241m=\u001b[39m \u001b[38;5;28mint\u001b[39m((start\u001b[38;5;241m+\u001b[39mend)\u001b[38;5;241m/\u001b[39m\u001b[38;5;241m2\u001b[39m)\n\u001b[0;32m     12\u001b[0m     \u001b[38;5;28;01mif\u001b[39;00m(arr[mid]\u001b[38;5;241m==\u001b[39mtarget):\n",
      "\u001b[1;31mKeyboardInterrupt\u001b[0m: "
     ]
    }
   ],
   "source": [
    "answer = GetOccurance(arr,size,target)\n",
    "\n",
    "print(f\"The First occurance of {target} is {answer[0]} and Last occurance is {answer[1]}\")"
   ]
  },
  {
   "cell_type": "code",
   "execution_count": null,
   "metadata": {},
   "outputs": [],
   "source": []
  }
 ],
 "metadata": {
  "kernelspec": {
   "display_name": "Python 3",
   "language": "python",
   "name": "python3"
  },
  "language_info": {
   "codemirror_mode": {
    "name": "ipython",
    "version": 3
   },
   "file_extension": ".py",
   "mimetype": "text/x-python",
   "name": "python",
   "nbconvert_exporter": "python",
   "pygments_lexer": "ipython3",
   "version": "3.12.4"
  }
 },
 "nbformat": 4,
 "nbformat_minor": 2
}
