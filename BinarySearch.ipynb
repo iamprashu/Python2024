{
 "cells": [
  {
   "cell_type": "code",
   "execution_count": 6,
   "metadata": {},
   "outputs": [],
   "source": [
    "arr = [1,2,3,4,5,6,7,8,9]\n",
    "size = len(arr)\n",
    "target=8\n"
   ]
  },
  {
   "cell_type": "code",
   "execution_count": 7,
   "metadata": {},
   "outputs": [],
   "source": [
    "start = 0\n",
    "mid = 0\n",
    "end = size -1\n"
   ]
  },
  {
   "cell_type": "code",
   "execution_count": 9,
   "metadata": {},
   "outputs": [
    {
     "name": "stdout",
     "output_type": "stream",
     "text": [
      "Yes we have 8 in the list at 7 index.\n"
     ]
    }
   ],
   "source": [
    "while start<=end:\n",
    "    mid = int ((start+end)/2)\n",
    "\n",
    "    if(arr[mid]==target):\n",
    "        print(f\"Yes we have {target} in the list at {mid} index.\")\n",
    "    \n",
    "    if(arr[mid]>target):\n",
    "        end = mid - 1\n",
    "    else:\n",
    "        start = mid + 1\n",
    "    "
   ]
  }
 ],
 "metadata": {
  "kernelspec": {
   "display_name": "Python 3",
   "language": "python",
   "name": "python3"
  },
  "language_info": {
   "codemirror_mode": {
    "name": "ipython",
    "version": 3
   },
   "file_extension": ".py",
   "mimetype": "text/x-python",
   "name": "python",
   "nbconvert_exporter": "python",
   "pygments_lexer": "ipython3",
   "version": "3.12.4"
  }
 },
 "nbformat": 4,
 "nbformat_minor": 2
}
