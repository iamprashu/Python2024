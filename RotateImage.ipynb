{
 "cells": [
  {
   "cell_type": "code",
   "execution_count": 2,
   "metadata": {},
   "outputs": [],
   "source": [
    "def TriverseMatrix(matrix):\n",
    "    for row_number in range(len(matrix)):\n",
    "        for column_element in range(row_number, len(matrix[row_number])):\n",
    "            #print(f\"The element of row {row_number} and column {column_element} is : {matrix[row_number][column_element]}\")\n",
    "            temp_element = matrix[row_number][column_element]\n",
    "            matrix[row_number][column_element] = matrix[column_element][row_number]\n",
    "            matrix[column_element][row_number] = temp_element"
   ]
  },
  {
   "cell_type": "code",
   "execution_count": 3,
   "metadata": {},
   "outputs": [],
   "source": [
    "def RotateRowWise(matrix):\n",
    "    for row_number in range(len(matrix)):\n",
    "        start_pointer  = 0\n",
    "        end_pointer = len(matrix[row_number])-1\n",
    "        while(start_pointer<=end_pointer):\n",
    "            temp_element = matrix[row_number][start_pointer]\n",
    "            matrix[row_number][start_pointer] = matrix[row_number][end_pointer]\n",
    "            matrix[row_number][end_pointer] = temp_element\n",
    "\n",
    "            start_pointer += 1\n",
    "            end_pointer -= 1\n"
   ]
  },
  {
   "cell_type": "code",
   "execution_count": 4,
   "metadata": {},
   "outputs": [],
   "source": [
    "matrix = [[1, 2, 3, 4], [5, 6, 7, 8], [9, 10, 11, 12],[13,14,15,16]]"
   ]
  },
  {
   "cell_type": "code",
   "execution_count": 5,
   "metadata": {},
   "outputs": [],
   "source": [
    "TriverseMatrix(matrix)\n",
    "RotateRowWise(matrix)"
   ]
  },
  {
   "cell_type": "code",
   "execution_count": 8,
   "metadata": {},
   "outputs": [
    {
     "name": "stdout",
     "output_type": "stream",
     "text": [
      "13 9 5 1 14 10 6 2 15 11 7 3 16 12 8 4 "
     ]
    }
   ],
   "source": [
    "for row in range(len(matrix)):\n",
    "    for col in range(len(matrix[row])):\n",
    "        print(matrix[row][col],end=\" \")\n",
    "    print(\"\\n\")"
   ]
  },
  {
   "cell_type": "code",
   "execution_count": null,
   "metadata": {},
   "outputs": [],
   "source": []
  }
 ],
 "metadata": {
  "kernelspec": {
   "display_name": "Python 3",
   "language": "python",
   "name": "python3"
  },
  "language_info": {
   "codemirror_mode": {
    "name": "ipython",
    "version": 3
   },
   "file_extension": ".py",
   "mimetype": "text/x-python",
   "name": "python",
   "nbconvert_exporter": "python",
   "pygments_lexer": "ipython3",
   "version": "3.12.4"
  }
 },
 "nbformat": 4,
 "nbformat_minor": 2
}
