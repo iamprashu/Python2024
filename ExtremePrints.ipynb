{
 "cells": [
  {
   "cell_type": "code",
   "execution_count": 22,
   "metadata": {},
   "outputs": [],
   "source": [
    "# array  / list\n",
    "\n",
    "arr = [1,2,3,4,5,6,7,8,10]\n",
    "size = len(arr)"
   ]
  },
  {
   "cell_type": "code",
   "execution_count": 23,
   "metadata": {},
   "outputs": [],
   "source": [
    "#Pointers\n",
    "start = 0\n",
    "end = size-1\n"
   ]
  },
  {
   "cell_type": "code",
   "execution_count": 24,
   "metadata": {},
   "outputs": [
    {
     "name": "stdout",
     "output_type": "stream",
     "text": [
      "1  10 2  8 3  7 4  6 5\n"
     ]
    }
   ],
   "source": [
    "while(start<=end):\n",
    "    \n",
    "    if(start==end):\n",
    "        print(arr[start])\n",
    "        start +=1\n",
    "    else:\n",
    "        print(f\"{arr[start]}  {arr[end]}\", end=\" \")\n",
    "        start +=1\n",
    "        end -=1\n",
    "\n"
   ]
  },
  {
   "cell_type": "code",
   "execution_count": null,
   "metadata": {},
   "outputs": [],
   "source": []
  }
 ],
 "metadata": {
  "kernelspec": {
   "display_name": "Python 3",
   "language": "python",
   "name": "python3"
  },
  "language_info": {
   "codemirror_mode": {
    "name": "ipython",
    "version": 3
   },
   "file_extension": ".py",
   "mimetype": "text/x-python",
   "name": "python",
   "nbconvert_exporter": "python",
   "pygments_lexer": "ipython3",
   "version": "3.12.4"
  }
 },
 "nbformat": 4,
 "nbformat_minor": 2
}
